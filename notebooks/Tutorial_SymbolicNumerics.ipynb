{
 "cells": [
  {
   "cell_type": "code",
   "execution_count": 62,
   "metadata": {},
   "outputs": [
    {
     "data": {
      "text/plain": [
       "\"Hadjivasiliou_Julia_Tutorial\""
      ]
     },
     "metadata": {},
     "output_type": "display_data"
    }
   ],
   "source": [
    "using DrWatson\n",
    "\n",
    "@quickactivate \"Hadjivasiliou_Julia_Tutorial\"\n",
    "\n",
    "projectname()"
   ]
  },
  {
   "cell_type": "code",
   "execution_count": 63,
   "metadata": {},
   "outputs": [],
   "source": [
    "using DifferentialEquations\n",
    "using ModelingToolkit, MethodOfLines\n",
    "using Plots"
   ]
  },
  {
   "cell_type": "markdown",
   "metadata": {},
   "source": [
    "Next ODE: morphogen gradient - diffusion and linear degradation term\n",
    "\n",
    "$\\frac{\\partial c}{\\partial t} = D \\frac{\\partial ^ 2 c}{\\partial x ^2}  - kc$\n",
    "\n",
    "with source term $D\\frac{\\partial c}{\\partial x}|_{x=0} = -j_0$ and zero flux at the end of the tissue, $D\\frac{\\partial c}{\\partial x}|_{x=L} = 0$\n",
    "\n",
    "The analytic solution $c(x) = c_0\\exp(-x/\\lambda) + c_1\\exp(x/\\lambda)$ , where $\\lambda = \\sqrt{\\frac{D}{k}}$"
   ]
  },
  {
   "cell_type": "code",
   "execution_count": 64,
   "metadata": {},
   "outputs": [
    {
     "data": {
      "text/latex": [
       "$$ \\begin{align}\n",
       "\\frac{\\mathrm{d}}{\\mathrm{d}t} c\\left( t, x \\right) =& 0.16 \\frac{\\mathrm{d}^{2}}{\\mathrm{d}x^{2}} c\\left( t, x \\right) - c\\left( t, x \\right)\n",
       "\\end{align}\n",
       " $$"
      ],
      "text/plain": [
       "PDESystem\n",
       "Equations: Equation[Differential(t)(c(t, x)) ~ 0.16Differential(x)(Differential(x)(c(t, x))) - c(t, x)]\n",
       "Boundary Conditions: Equation[c(0, x) ~ 0.0, Differential(x)(c(t, 0)) ~ -0.4, Differential(x)(c(t, 1.0)) ~ 0.0]\n",
       "Domain: Symbolics.VarDomainPairing[Symbolics.VarDomainPairing(t, 0.0..12.0), Symbolics.VarDomainPairing(x, 0.0..1.0)]\n",
       "Dependent Variables: Num[c(t, x)]\n",
       "Independent Variables: Num[t, x]\n",
       "Parameters: SciMLBase.NullParameters()\n",
       "Default Parameter ValuesDict{Any, Any}()"
      ]
     },
     "metadata": {},
     "output_type": "display_data"
    }
   ],
   "source": [
    "@parameters x\n",
    "@variables t c(..)\n",
    "\n",
    "Dx = Differential(x)\n",
    "Dxx = Differential(x)^2\n",
    "Dt = Differential(t)\n",
    "\n",
    "# PDE\n",
    "L = 1.\n",
    "D = 0.16\n",
    "k = 1.\n",
    "j0 = 0.4\n",
    "\n",
    "eq  = Dt(c(t,x)) ~ D*Dxx(c(t,x)) - k*c(t,x)\n",
    "\n",
    "# Initial and boundary conditions\n",
    "bcs = [c(0,x) ~ 0., \n",
    "       Dx(c(t,0)) ~ -j0, Dx(c(t,L)) ~ 0.]\n",
    "\n",
    "# Space and time domains\n",
    "domains = [t ∈ (0.0,12.),\n",
    "           x ∈ (0.0,L)]\n",
    "\n",
    "@named pde_system = PDESystem(eq,bcs,domains,[t,x],[c(t,x)])"
   ]
  },
  {
   "cell_type": "code",
   "execution_count": 65,
   "metadata": {},
   "outputs": [],
   "source": [
    "Nc = 100\n",
    "\n",
    "dx = L/(Nc-1)\n",
    "\n",
    "order = 2\n",
    "discretization = MOLFiniteDifference([x => dx], t);"
   ]
  },
  {
   "cell_type": "code",
   "execution_count": 66,
   "metadata": {},
   "outputs": [],
   "source": [
    "prob = discretize(pde_system,discretization);"
   ]
  },
  {
   "cell_type": "code",
   "execution_count": 67,
   "metadata": {},
   "outputs": [],
   "source": [
    "sol = solve(prob, Tsit5(),abstol = 1e-8,reltol = 1e-6,maxiters = 1e6);"
   ]
  },
  {
   "cell_type": "markdown",
   "metadata": {},
   "source": [
    "https://bmcsystbiol.biomedcentral.com/articles/10.1186/1752-0509-3-90\n",
    "\n",
    "The smallest chemical reaction system with bistability"
   ]
  },
  {
   "cell_type": "code",
   "execution_count": 68,
   "metadata": {},
   "outputs": [],
   "source": [
    "using Catalyst, Latexify"
   ]
  },
  {
   "cell_type": "code",
   "execution_count": 69,
   "metadata": {},
   "outputs": [
    {
     "data": {
      "text/plain": [
       "4-element Vector{Reaction}:\n",
       " k1, Y --> 2*X\n",
       " k2, 2*X --> X + Y\n",
       " k3, X + Y --> Y\n",
       " k4, X --> ∅"
      ]
     },
     "metadata": {},
     "output_type": "display_data"
    }
   ],
   "source": [
    "wilhelm = @reaction_network begin\n",
    "    k1, Y --> 2X\n",
    "    k2, 2X --> X + Y\n",
    "    k3, X + Y --> Y\n",
    "    k4, X --> 0\n",
    "end k1 k2 k3 k4\n",
    "\n",
    "reactions(wilhelm)\n"
   ]
  },
  {
   "cell_type": "code",
   "execution_count": 70,
   "metadata": {},
   "outputs": [
    {
     "data": {
      "text/plain": [
       "2-element Vector{Term{Real, Base.ImmutableDict{DataType, Any}}}:\n",
       " Y(t)\n",
       " X(t)"
      ]
     },
     "metadata": {},
     "output_type": "display_data"
    }
   ],
   "source": [
    "species(wilhelm)"
   ]
  },
  {
   "cell_type": "code",
   "execution_count": 71,
   "metadata": {},
   "outputs": [
    {
     "data": {
      "text/plain": [
       "4-element Vector{Sym{Real, Base.ImmutableDict{DataType, Any}}}:\n",
       " k1\n",
       " k2\n",
       " k3\n",
       " k4"
      ]
     },
     "metadata": {},
     "output_type": "display_data"
    }
   ],
   "source": [
    "parameters(wilhelm)"
   ]
  },
  {
   "cell_type": "code",
   "execution_count": 72,
   "metadata": {},
   "outputs": [
    {
     "data": {
      "text/latex": [
       "$$ \\begin{align}\n",
       "\\frac{\\mathrm{d} Y\\left( t \\right)}{\\mathrm{d}t} =& \\frac{1}{2} \\left( X\\left( t \\right) \\right)^{2} k2 - k1 Y\\left( t \\right) \\\\\n",
       "\\frac{\\mathrm{d} X\\left( t \\right)}{\\mathrm{d}t} =&  - \\frac{1}{2} \\left( X\\left( t \\right) \\right)^{2} k2 + 2 k1 Y\\left( t \\right) - k4 X\\left( t \\right) - k3 X\\left( t \\right) Y\\left( t \\right)\n",
       "\\end{align}\n",
       " $$"
      ],
      "text/plain": [
       "\u001b[0m\u001b[1mModel ##ReactionSystem#320 with 2 \u001b[22m\u001b[0m\u001b[1mequations\u001b[22m\n",
       "\u001b[0m\u001b[1mStates (2):\u001b[22m\n",
       "  Y(t)\n",
       "  X(t)\n",
       "\u001b[0m\u001b[1mParameters (4):\u001b[22m\n",
       "  k1\n",
       "  k2\n",
       "  k3\n",
       "  k4"
      ]
     },
     "metadata": {},
     "output_type": "display_data"
    }
   ],
   "source": [
    "odesys = convert(ODESystem, wilhelm)"
   ]
  },
  {
   "cell_type": "code",
   "execution_count": 73,
   "metadata": {},
   "outputs": [
    {
     "data": {
      "text/plain": [
       "\u001b[36mODEProblem\u001b[0m with uType \u001b[36mVector{Float64}\u001b[0m and tType \u001b[36mInt64\u001b[0m. In-place: \u001b[36mtrue\u001b[0m\n",
       "timespan: (0, 10)\n",
       "u0: 2-element Vector{Float64}:\n",
       " 2.5\n",
       " 0.5"
      ]
     },
     "metadata": {},
     "output_type": "display_data"
    }
   ],
   "source": [
    "p = [:k1 => 8.0, :k2 => 1.0, :k3 => 1.0, :k4 => 1.5]\n",
    "u0 = [2.5 0.5]\n",
    "\n",
    "prob = ODEProblem(wilhelm,u0,(0,10),p)"
   ]
  },
  {
   "cell_type": "code",
   "execution_count": 74,
   "metadata": {},
   "outputs": [],
   "source": [
    "sol = solve(prob,AutoTsit5(Rosenbrock23()));"
   ]
  },
  {
   "cell_type": "code",
   "execution_count": 75,
   "metadata": {},
   "outputs": [
    {
     "data": {
      "image/png": "[encoded data removed]",
      "image/svg+xml": "<?xml version=\"1.0\" encoding=\"utf-8\"?>\n<svg xmlns=\"http://www.w3.org/2000/svg\" xmlns:xlink=\"http://www.w3.org/1999/xlink\" width=\"600\" height=\"400\" viewBox=\"0 0 2400 1600\">\n<defs>\n  <clipPath id=\"clip400\">\n    <rect x=\"0\" y=\"0\" width=\"2400\" height=\"1600\"/>\n  </clipPath>\n</defs>\n<path clip-path=\"url(#clip400)\" d=\"\nM0 1600 L2400 1600 L2400 0 L0 0  Z\n  \" fill=\"#ffffff\" fill-rule=\"evenodd\" fill-opacity=\"1\"/>\n<defs>\n  <clipPath id=\"clip401\">\n    <rect x=\"480\" y=\"0\" width=\"1681\" height=\"1600\"/>\n  </clipPath>\n</defs>\n<path clip-path=\"url(#clip400)\" d=\"\nM110.881 1486.45 L2352.76 1486.45 L2352.76 47.2441 L110.881 47.2441  Z\n  \" fill=\"#ffffff\" fill-rule=\"evenodd\" fill-opacity=\"1\"/>\n<defs>\n  <clipPath id=\"clip402\">\n    <rect x=\"110\" y=\"47\" width=\"2243\" height=\"1440\"/>\n  </clipPath>\n</defs>\n<polyline clip-path=\"url(#clip402)\" style=\"stroke:#000000; stroke-linecap:round; stroke-linejoin:round; stroke-width:2; stroke-opacity:0.1; fill:none\" points=\"\n  130.268,1486.45 130.268,47.2441 \n  \"/>\n<polyline clip-path=\"url(#clip402)\" style=\"stroke:#000000; stroke-linecap:round; stroke-linejoin:round; stroke-width:2; stroke-opacity:0.1; fill:none\" points=\"\n  570.888,1486.45 570.888,47.2441 \n  \"/>\n<polyline clip-path=\"url(#clip402)\" style=\"stroke:#000000; stroke-linecap:round; stroke-linejoin:round; stroke-width:2; stroke-opacity:0.1; fill:none\" points=\"\n  1011.51,1486.45 1011.51,47.2441 \n  \"/>\n<polyline clip-path=\"url(#clip402)\" style=\"stroke:#000000; stroke-linecap:round; stroke-linejoin:round; stroke-width:2; stroke-opacity:0.1; fill:none\" points=\"\n  1452.13,1486.45 1452.13,47.2441 \n  \"/>\n<polyline clip-path=\"url(#clip402)\" style=\"stroke:#000000; stroke-linecap:round; stroke-linejoin:round; stroke-width:2; stroke-opacity:0.1; fill:none\" points=\"\n  1892.75,1486.45 1892.75,47.2441 \n  \"/>\n<polyline clip-path=\"url(#clip402)\" style=\"stroke:#000000; stroke-linecap:round; stroke-linejoin:round; stroke-width:2; stroke-opacity:0.1; fill:none\" points=\"\n  2333.37,1486.45 2333.37,47.2441 \n  \"/>\n<polyline clip-path=\"url(#clip400)\" style=\"stroke:#000000; stroke-linecap:round; stroke-linejoin:round; stroke-width:4; stroke-opacity:1; fill:none\" points=\"\n  110.881,1486.45 2352.76,1486.45 \n  \"/>\n<polyline clip-path=\"url(#clip400)\" style=\"stroke:#000000; stroke-linecap:round; stroke-linejoin:round; stroke-width:4; stroke-opacity:1; fill:none\" points=\"\n  130.268,1486.45 130.268,1467.55 \n  \"/>\n<polyline clip-path=\"url(#clip400)\" style=\"stroke:#000000; stroke-linecap:round; stroke-linejoin:round; stroke-width:4; stroke-opacity:1; fill:none\" points=\"\n  570.888,1486.45 570.888,1467.55 \n  \"/>\n<polyline clip-path=\"url(#clip400)\" style=\"stroke:#000000; stroke-linecap:round; stroke-linejoin:round; stroke-width:4; stroke-opacity:1; fill:none\" points=\"\n  1011.51,1486.45 1011.51,1467.55 \n  \"/>\n<polyline clip-path=\"url(#clip400)\" style=\"stroke:#000000; stroke-linecap:round; stroke-linejoin:round; stroke-width:4; stroke-opacity:1; fill:none\" points=\"\n  1452.13,1486.45 1452.13,1467.55 \n  \"/>\n<polyline clip-path=\"url(#clip400)\" style=\"stroke:#000000; stroke-linecap:round; stroke-linejoin:round; stroke-width:4; stroke-opacity:1; fill:none\" points=\"\n  1892.75,1486.45 1892.75,1467.55 \n  \"/>\n<polyline clip-path=\"url(#clip400)\" style=\"stroke:#000000; stroke-linecap:round; stroke-linejoin:round; stroke-width:4; stroke-opacity:1; fill:none\" points=\"\n  2333.37,1486.45 2333.37,1467.55 \n  \"/>\n<path clip-path=\"url(#clip400)\" d=\"M130.268 1517.37 Q126.657 1517.37 124.828 1520.93 Q123.023 1524.47 123.023 1531.6 Q123.023 1538.71 124.828 1542.27 Q126.657 1545.82 130.268 1545.82 Q133.902 1545.82 135.708 1542.27 Q137.537 1538.71 137.537 1531.6 Q137.537 1524.47 135.708 1520.93 Q133.902 1517.37 130.268 1517.37 M130.268 1513.66 Q136.078 1513.66 139.134 1518.27 Q142.213 1522.85 142.213 1531.6 Q142.213 1540.33 139.134 1544.94 Q136.078 1549.52 130.268 1549.52 Q124.458 1549.52 121.379 1544.94 Q118.324 1540.33 118.324 1531.6 Q118.324 1522.85 121.379 1518.27 Q124.458 1513.66 130.268 1513.66 Z\" fill=\"#000000\" fill-rule=\"evenodd\" fill-opacity=\"1\" /><path clip-path=\"url(#clip400)\" d=\"M545.576 1544.91 L553.215 1544.91 L553.215 1518.55 L544.905 1520.21 L544.905 1515.95 L553.168 1514.29 L557.844 1514.29 L557.844 1544.91 L565.483 1544.91 L565.483 1548.85 L545.576 1548.85 L545.576 1544.91 Z\" fill=\"#000000\" fill-rule=\"evenodd\" fill-opacity=\"1\" /><path clip-path=\"url(#clip400)\" d=\"M584.928 1517.37 Q581.316 1517.37 579.488 1520.93 Q577.682 1524.47 577.682 1531.6 Q577.682 1538.71 579.488 1542.27 Q581.316 1545.82 584.928 1545.82 Q588.562 1545.82 590.367 1542.27 Q592.196 1538.71 592.196 1531.6 Q592.196 1524.47 590.367 1520.93 Q588.562 1517.37 584.928 1517.37 M584.928 1513.66 Q590.738 1513.66 593.793 1518.27 Q596.872 1522.85 596.872 1531.6 Q596.872 1540.33 593.793 1544.94 Q590.738 1549.52 584.928 1549.52 Q579.117 1549.52 576.039 1544.94 Q572.983 1540.33 572.983 1531.6 Q572.983 1522.85 576.039 1518.27 Q579.117 1513.66 584.928 1513.66 Z\" fill=\"#000000\" fill-rule=\"evenodd\" fill-opacity=\"1\" /><path clip-path=\"url(#clip400)\" d=\"M990.282 1544.91 L1006.6 1544.91 L1006.6 1548.85 L984.657 1548.85 L984.657 1544.91 Q987.319 1542.16 991.902 1537.53 Q996.508 1532.88 997.689 1531.53 Q999.934 1529.01 1000.81 1527.27 Q1001.72 1525.51 1001.72 1523.82 Q1001.72 1521.07 999.772 1519.33 Q997.851 1517.6 994.749 1517.6 Q992.55 1517.6 990.096 1518.36 Q987.666 1519.13 984.888 1520.68 L984.888 1515.95 Q987.712 1514.82 990.166 1514.24 Q992.62 1513.66 994.657 1513.66 Q1000.03 1513.66 1003.22 1516.35 Q1006.42 1519.03 1006.42 1523.52 Q1006.42 1525.65 1005.61 1527.57 Q1004.82 1529.47 1002.71 1532.07 Q1002.13 1532.74 999.032 1535.95 Q995.93 1539.15 990.282 1544.91 Z\" fill=\"#000000\" fill-rule=\"evenodd\" fill-opacity=\"1\" /><path clip-path=\"url(#clip400)\" d=\"M1026.42 1517.37 Q1022.8 1517.37 1020.98 1520.93 Q1019.17 1524.47 1019.17 1531.6 Q1019.17 1538.71 1020.98 1542.27 Q1022.8 1545.82 1026.42 1545.82 Q1030.05 1545.82 1031.86 1542.27 Q1033.68 1538.71 1033.68 1531.6 Q1033.68 1524.47 1031.86 1520.93 Q1030.05 1517.37 1026.42 1517.37 M1026.42 1513.66 Q1032.23 1513.66 1035.28 1518.27 Q1038.36 1522.85 1038.36 1531.6 Q1038.36 1540.33 1035.28 1544.94 Q1032.23 1549.52 1026.42 1549.52 Q1020.61 1549.52 1017.53 1544.94 Q1014.47 1540.33 1014.47 1531.6 Q1014.47 1522.85 1017.53 1518.27 Q1020.61 1513.66 1026.42 1513.66 Z\" fill=\"#000000\" fill-rule=\"evenodd\" fill-opacity=\"1\" /><path clip-path=\"url(#clip400)\" d=\"M1440.97 1530.21 Q1444.33 1530.93 1446.2 1533.2 Q1448.1 1535.47 1448.1 1538.8 Q1448.1 1543.92 1444.58 1546.72 Q1441.06 1549.52 1434.58 1549.52 Q1432.41 1549.52 1430.09 1549.08 Q1427.8 1548.66 1425.35 1547.81 L1425.35 1543.29 Q1427.29 1544.43 1429.61 1545.01 Q1431.92 1545.58 1434.44 1545.58 Q1438.84 1545.58 1441.13 1543.85 Q1443.45 1542.11 1443.45 1538.8 Q1443.45 1535.75 1441.3 1534.03 Q1439.17 1532.3 1435.35 1532.3 L1431.32 1532.3 L1431.32 1528.45 L1435.53 1528.45 Q1438.98 1528.45 1440.81 1527.09 Q1442.64 1525.7 1442.64 1523.11 Q1442.64 1520.45 1440.74 1519.03 Q1438.86 1517.6 1435.35 1517.6 Q1433.42 1517.6 1431.23 1518.01 Q1429.03 1518.43 1426.39 1519.31 L1426.39 1515.14 Q1429.05 1514.4 1431.36 1514.03 Q1433.7 1513.66 1435.76 1513.66 Q1441.09 1513.66 1444.19 1516.09 Q1447.29 1518.5 1447.29 1522.62 Q1447.29 1525.49 1445.65 1527.48 Q1444 1529.45 1440.97 1530.21 Z\" fill=\"#000000\" fill-rule=\"evenodd\" fill-opacity=\"1\" /><path clip-path=\"url(#clip400)\" d=\"M1466.97 1517.37 Q1463.36 1517.37 1461.53 1520.93 Q1459.72 1524.47 1459.72 1531.6 Q1459.72 1538.71 1461.53 1542.27 Q1463.36 1545.82 1466.97 1545.82 Q1470.6 1545.82 1472.41 1542.27 Q1474.23 1538.71 1474.23 1531.6 Q1474.23 1524.47 1472.41 1520.93 Q1470.6 1517.37 1466.97 1517.37 M1466.97 1513.66 Q1472.78 1513.66 1475.83 1518.27 Q1478.91 1522.85 1478.91 1531.6 Q1478.91 1540.33 1475.83 1544.94 Q1472.78 1549.52 1466.97 1549.52 Q1461.16 1549.52 1458.08 1544.94 Q1455.02 1540.33 1455.02 1531.6 Q1455.02 1522.85 1458.08 1518.27 Q1461.16 1513.66 1466.97 1513.66 Z\" fill=\"#000000\" fill-rule=\"evenodd\" fill-opacity=\"1\" /><path clip-path=\"url(#clip400)\" d=\"M1880.92 1518.36 L1869.11 1536.81 L1880.92 1536.81 L1880.92 1518.36 M1879.69 1514.29 L1885.57 1514.29 L1885.57 1536.81 L1890.5 1536.81 L1890.5 1540.7 L1885.57 1540.7 L1885.57 1548.85 L1880.92 1548.85 L1880.92 1540.7 L1865.32 1540.7 L1865.32 1536.19 L1879.69 1514.29 Z\" fill=\"#000000\" fill-rule=\"evenodd\" fill-opacity=\"1\" /><path clip-path=\"url(#clip400)\" d=\"M1908.23 1517.37 Q1904.62 1517.37 1902.79 1520.93 Q1900.99 1524.47 1900.99 1531.6 Q1900.99 1538.71 1902.79 1542.27 Q1904.62 1545.82 1908.23 1545.82 Q1911.87 1545.82 1913.67 1542.27 Q1915.5 1538.71 1915.5 1531.6 Q1915.5 1524.47 1913.67 1520.93 Q1911.87 1517.37 1908.23 1517.37 M1908.23 1513.66 Q1914.04 1513.66 1917.1 1518.27 Q1920.18 1522.85 1920.18 1531.6 Q1920.18 1540.33 1917.1 1544.94 Q1914.04 1549.52 1908.23 1549.52 Q1902.42 1549.52 1899.35 1544.94 Q1896.29 1540.33 1896.29 1531.6 Q1896.29 1522.85 1899.35 1518.27 Q1902.42 1513.66 1908.23 1513.66 Z\" fill=\"#000000\" fill-rule=\"evenodd\" fill-opacity=\"1\" /><path clip-path=\"url(#clip400)\" d=\"M2308.07 1514.29 L2326.42 1514.29 L2326.42 1518.22 L2312.35 1518.22 L2312.35 1526.7 Q2313.37 1526.35 2314.39 1526.19 Q2315.41 1526 2316.42 1526 Q2322.21 1526 2325.59 1529.17 Q2328.97 1532.34 2328.97 1537.76 Q2328.97 1543.34 2325.5 1546.44 Q2322.03 1549.52 2315.71 1549.52 Q2313.53 1549.52 2311.26 1549.15 Q2309.02 1548.78 2306.61 1548.04 L2306.61 1543.34 Q2308.69 1544.47 2310.92 1545.03 Q2313.14 1545.58 2315.61 1545.58 Q2319.62 1545.58 2321.96 1543.48 Q2324.29 1541.37 2324.29 1537.76 Q2324.29 1534.15 2321.96 1532.04 Q2319.62 1529.94 2315.61 1529.94 Q2313.74 1529.94 2311.86 1530.35 Q2310.01 1530.77 2308.07 1531.65 L2308.07 1514.29 Z\" fill=\"#000000\" fill-rule=\"evenodd\" fill-opacity=\"1\" /><path clip-path=\"url(#clip400)\" d=\"M2348.18 1517.37 Q2344.57 1517.37 2342.74 1520.93 Q2340.94 1524.47 2340.94 1531.6 Q2340.94 1538.71 2342.74 1542.27 Q2344.57 1545.82 2348.18 1545.82 Q2351.82 1545.82 2353.62 1542.27 Q2355.45 1538.71 2355.45 1531.6 Q2355.45 1524.47 2353.62 1520.93 Q2351.82 1517.37 2348.18 1517.37 M2348.18 1513.66 Q2353.99 1513.66 2357.05 1518.27 Q2360.13 1522.85 2360.13 1531.6 Q2360.13 1540.33 2357.05 1544.94 Q2353.99 1549.52 2348.18 1549.52 Q2342.37 1549.52 2339.29 1544.94 Q2336.24 1540.33 2336.24 1531.6 Q2336.24 1522.85 2339.29 1518.27 Q2342.37 1513.66 2348.18 1513.66 Z\" fill=\"#000000\" fill-rule=\"evenodd\" fill-opacity=\"1\" /><polyline clip-path=\"url(#clip402)\" style=\"stroke:#000000; stroke-linecap:round; stroke-linejoin:round; stroke-width:2; stroke-opacity:0.1; fill:none\" points=\"\n  110.881,1445.72 2352.76,1445.72 \n  \"/>\n<polyline clip-path=\"url(#clip402)\" style=\"stroke:#000000; stroke-linecap:round; stroke-linejoin:round; stroke-width:2; stroke-opacity:0.1; fill:none\" points=\"\n  110.881,1012.64 2352.76,1012.64 \n  \"/>\n<polyline clip-path=\"url(#clip402)\" style=\"stroke:#000000; stroke-linecap:round; stroke-linejoin:round; stroke-width:2; stroke-opacity:0.1; fill:none\" points=\"\n  110.881,579.573 2352.76,579.573 \n  \"/>\n<polyline clip-path=\"url(#clip402)\" style=\"stroke:#000000; stroke-linecap:round; stroke-linejoin:round; stroke-width:2; stroke-opacity:0.1; fill:none\" points=\"\n  110.881,146.502 2352.76,146.502 \n  \"/>\n<polyline clip-path=\"url(#clip400)\" style=\"stroke:#000000; stroke-linecap:round; stroke-linejoin:round; stroke-width:4; stroke-opacity:1; fill:none\" points=\"\n  110.881,1486.45 110.881,47.2441 \n  \"/>\n<polyline clip-path=\"url(#clip400)\" style=\"stroke:#000000; stroke-linecap:round; stroke-linejoin:round; stroke-width:4; stroke-opacity:1; fill:none\" points=\"\n  110.881,1445.72 129.779,1445.72 \n  \"/>\n<polyline clip-path=\"url(#clip400)\" style=\"stroke:#000000; stroke-linecap:round; stroke-linejoin:round; stroke-width:4; stroke-opacity:1; fill:none\" points=\"\n  110.881,1012.64 129.779,1012.64 \n  \"/>\n<polyline clip-path=\"url(#clip400)\" style=\"stroke:#000000; stroke-linecap:round; stroke-linejoin:round; stroke-width:4; stroke-opacity:1; fill:none\" points=\"\n  110.881,579.573 129.779,579.573 \n  \"/>\n<polyline clip-path=\"url(#clip400)\" style=\"stroke:#000000; stroke-linecap:round; stroke-linejoin:round; stroke-width:4; stroke-opacity:1; fill:none\" points=\"\n  110.881,146.502 129.779,146.502 \n  \"/>\n<path clip-path=\"url(#clip400)\" d=\"M62.9365 1431.51 Q59.3254 1431.51 57.4967 1435.08 Q55.6912 1438.62 55.6912 1445.75 Q55.6912 1452.86 57.4967 1456.42 Q59.3254 1459.96 62.9365 1459.96 Q66.5707 1459.96 68.3763 1456.42 Q70.205 1452.86 70.205 1445.75 Q70.205 1438.62 68.3763 1435.08 Q66.5707 1431.51 62.9365 1431.51 M62.9365 1427.81 Q68.7467 1427.81 71.8022 1432.42 Q74.8809 1437 74.8809 1445.75 Q74.8809 1454.48 71.8022 1459.08 Q68.7467 1463.67 62.9365 1463.67 Q57.1264 1463.67 54.0477 1459.08 Q50.9921 1454.48 50.9921 1445.75 Q50.9921 1437 54.0477 1432.42 Q57.1264 1427.81 62.9365 1427.81 Z\" fill=\"#000000\" fill-rule=\"evenodd\" fill-opacity=\"1\" /><path clip-path=\"url(#clip400)\" d=\"M54.9736 1025.99 L62.6124 1025.99 L62.6124 999.624 L54.3023 1001.29 L54.3023 997.031 L62.5661 995.364 L67.242 995.364 L67.242 1025.99 L74.8809 1025.99 L74.8809 1029.92 L54.9736 1029.92 L54.9736 1025.99 Z\" fill=\"#000000\" fill-rule=\"evenodd\" fill-opacity=\"1\" /><path clip-path=\"url(#clip400)\" d=\"M58.5615 592.918 L74.8809 592.918 L74.8809 596.853 L52.9366 596.853 L52.9366 592.918 Q55.5986 590.163 60.1819 585.534 Q64.7883 580.881 65.9689 579.539 Q68.2143 577.015 69.0939 575.279 Q69.9967 573.52 69.9967 571.83 Q69.9967 569.076 68.0522 567.34 Q66.1309 565.603 63.0291 565.603 Q60.83 565.603 58.3763 566.367 Q55.9458 567.131 53.168 568.682 L53.168 563.96 Q55.9921 562.826 58.4458 562.247 Q60.8995 561.668 62.9365 561.668 Q68.3068 561.668 71.5013 564.353 Q74.6957 567.039 74.6957 571.529 Q74.6957 573.659 73.8855 575.58 Q73.0985 577.478 70.992 580.071 Q70.4133 580.742 67.3115 583.96 Q64.2096 587.154 58.5615 592.918 Z\" fill=\"#000000\" fill-rule=\"evenodd\" fill-opacity=\"1\" /><path clip-path=\"url(#clip400)\" d=\"M67.7513 145.148 Q71.1078 145.865 72.9827 148.134 Q74.8809 150.402 74.8809 153.736 Q74.8809 158.851 71.3624 161.652 Q67.8439 164.453 61.3624 164.453 Q59.1865 164.453 56.8717 164.013 Q54.5801 163.597 52.1264 162.74 L52.1264 158.226 Q54.0708 159.361 56.3856 159.939 Q58.7004 160.518 61.2236 160.518 Q65.6217 160.518 67.9133 158.782 Q70.2281 157.046 70.2281 153.736 Q70.2281 150.68 68.0754 148.967 Q65.9457 147.231 62.1263 147.231 L58.0986 147.231 L58.0986 143.389 L62.3115 143.389 Q65.7606 143.389 67.5893 142.023 Q69.418 140.634 69.418 138.041 Q69.418 135.379 67.5198 133.967 Q65.6448 132.532 62.1263 132.532 Q60.205 132.532 58.006 132.949 Q55.8069 133.366 53.168 134.245 L53.168 130.078 Q55.8301 129.338 58.1449 128.967 Q60.4828 128.597 62.543 128.597 Q67.867 128.597 70.9689 131.028 Q74.0707 133.435 74.0707 137.555 Q74.0707 140.426 72.4272 142.416 Q70.7837 144.384 67.7513 145.148 Z\" fill=\"#000000\" fill-rule=\"evenodd\" fill-opacity=\"1\" /><polyline clip-path=\"url(#clip402)\" style=\"stroke:#009af9; stroke-linecap:round; stroke-linejoin:round; stroke-width:4; stroke-opacity:1; fill:none\" points=\"\n  174.33,363.038 218.392,509.874 262.454,669.947 306.516,812.934 350.578,930.35 394.64,1016.04 438.702,1074.82 482.764,1113.74 526.826,1140.43 570.888,1160.8 \n  614.95,1178.96 659.012,1197.49 703.074,1217.92 747.136,1240.91 791.198,1265.74 835.26,1290.88 879.322,1315.4 923.384,1338.57 967.446,1359.8 1011.51,1378.65 \n  1055.57,1394.83 1099.63,1408.23 1143.69,1418.92 1187.76,1427.12 1231.82,1433.17 1275.88,1437.47 1319.94,1440.42 1364,1442.39 1408.07,1443.66 1452.13,1444.46 \n  1496.19,1444.97 1540.25,1445.27 1584.31,1445.46 1628.38,1445.57 1672.44,1445.63 1716.5,1445.67 1760.56,1445.69 1804.62,1445.7 1848.69,1445.71 1892.75,1445.71 \n  1936.81,1445.71 1980.87,1445.72 2024.93,1445.72 2069,1445.72 2113.06,1445.72 2157.12,1445.72 2201.18,1445.72 2245.24,1445.72 2289.31,1445.72 \n  \"/>\n<polyline clip-path=\"url(#clip402)\" style=\"stroke:#e26f46; stroke-linecap:round; stroke-linejoin:round; stroke-width:4; stroke-opacity:1; fill:none\" points=\"\n  174.33,1229.18 218.392,957.908 262.454,681.109 306.516,451.434 350.578,278.842 394.64,168.363 438.702,109.062 482.764,87.9763 526.826,92.8332 570.888,114.86 \n  614.95,148.902 659.012,192.816 703.074,246.726 747.136,311.568 791.198,386.193 835.26,467.214 879.322,552.807 923.384,641.184 967.446,730.659 1011.51,819.36 \n  1055.57,905.405 1099.63,986.929 1143.69,1062.28 1187.76,1130.14 1231.82,1189.7 1275.88,1240.69 1319.94,1283.36 1364,1318.35 1408.07,1346.59 1452.13,1369.07 \n  1496.19,1386.81 1540.25,1400.71 1584.31,1411.58 1628.38,1420.06 1672.44,1426.65 1716.5,1431.77 1760.56,1435.72 1804.62,1438.72 1848.69,1440.97 1892.75,1442.62 \n  1936.81,1443.79 1980.87,1444.58 2024.93,1445.09 2069,1445.39 2113.06,1445.56 2157.12,1445.64 2201.18,1445.67 2245.24,1445.69 2289.31,1445.7 \n  \"/>\n<path clip-path=\"url(#clip400)\" d=\"\nM1976.5 250.738 L2278.03 250.738 L2278.03 95.2176 L1976.5 95.2176  Z\n  \" fill=\"#ffffff\" fill-rule=\"evenodd\" fill-opacity=\"1\"/>\n<polyline clip-path=\"url(#clip400)\" style=\"stroke:#000000; stroke-linecap:round; stroke-linejoin:round; stroke-width:4; stroke-opacity:1; fill:none\" points=\"\n  1976.5,250.738 2278.03,250.738 2278.03,95.2176 1976.5,95.2176 1976.5,250.738 \n  \"/>\n<polyline clip-path=\"url(#clip400)\" style=\"stroke:#009af9; stroke-linecap:round; stroke-linejoin:round; stroke-width:4; stroke-opacity:1; fill:none\" points=\"\n  2001.41,147.058 2150.87,147.058 \n  \"/>\n<path clip-path=\"url(#clip400)\" d=\"M2189.62 166.745 Q2187.81 171.375 2186.1 172.787 Q2184.39 174.199 2181.52 174.199 L2178.11 174.199 L2178.11 170.634 L2180.61 170.634 Q2182.37 170.634 2183.35 169.8 Q2184.32 168.967 2185.5 165.865 L2186.26 163.921 L2175.78 138.412 L2180.29 138.412 L2188.39 158.689 L2196.49 138.412 L2201.01 138.412 L2189.62 166.745 Z\" fill=\"#000000\" fill-rule=\"evenodd\" fill-opacity=\"1\" /><path clip-path=\"url(#clip400)\" d=\"M2208.3 160.402 L2215.94 160.402 L2215.94 134.037 L2207.63 135.703 L2207.63 131.444 L2215.89 129.778 L2220.57 129.778 L2220.57 160.402 L2228.21 160.402 L2228.21 164.338 L2208.3 164.338 L2208.3 160.402 Z\" fill=\"#000000\" fill-rule=\"evenodd\" fill-opacity=\"1\" /><polyline clip-path=\"url(#clip400)\" style=\"stroke:#e26f46; stroke-linecap:round; stroke-linejoin:round; stroke-width:4; stroke-opacity:1; fill:none\" points=\"\n  2001.41,198.898 2150.87,198.898 \n  \"/>\n<path clip-path=\"url(#clip400)\" d=\"M2189.62 218.585 Q2187.81 223.215 2186.1 224.627 Q2184.39 226.039 2181.52 226.039 L2178.11 226.039 L2178.11 222.474 L2180.61 222.474 Q2182.37 222.474 2183.35 221.64 Q2184.32 220.807 2185.5 217.705 L2186.26 215.761 L2175.78 190.252 L2180.29 190.252 L2188.39 210.529 L2196.49 190.252 L2201.01 190.252 L2189.62 218.585 Z\" fill=\"#000000\" fill-rule=\"evenodd\" fill-opacity=\"1\" /><path clip-path=\"url(#clip400)\" d=\"M2211.52 212.242 L2227.84 212.242 L2227.84 216.178 L2205.89 216.178 L2205.89 212.242 Q2208.55 209.488 2213.14 204.858 Q2217.74 200.205 2218.92 198.863 Q2221.17 196.34 2222.05 194.604 Q2222.95 192.844 2222.95 191.155 Q2222.95 188.4 2221.01 186.664 Q2219.09 184.928 2215.99 184.928 Q2213.79 184.928 2211.33 185.692 Q2208.9 186.455 2206.12 188.006 L2206.12 183.284 Q2208.95 182.15 2211.4 181.571 Q2213.86 180.993 2215.89 180.993 Q2221.26 180.993 2224.46 183.678 Q2227.65 186.363 2227.65 190.854 Q2227.65 192.983 2226.84 194.905 Q2226.05 196.803 2223.95 199.395 Q2223.37 200.067 2220.27 203.284 Q2217.17 206.479 2211.52 212.242 Z\" fill=\"#000000\" fill-rule=\"evenodd\" fill-opacity=\"1\" /></svg>\n",
      "text/html": [
       "<?xml version=\"1.0\" encoding=\"utf-8\"?>\n",
       "<svg xmlns=\"http://www.w3.org/2000/svg\" xmlns:xlink=\"http://www.w3.org/1999/xlink\" width=\"600\" height=\"400\" viewBox=\"0 0 2400 1600\">\n",
       "<defs>\n",
       "  <clipPath id=\"clip450\">\n",
       "    <rect x=\"0\" y=\"0\" width=\"2400\" height=\"1600\"/>\n",
       "  </clipPath>\n",
       "</defs>\n",
       "<path clip-path=\"url(#clip450)\" d=\"\n",
       "M0 1600 L2400 1600 L2400 0 L0 0  Z\n",
       "  \" fill=\"#ffffff\" fill-rule=\"evenodd\" fill-opacity=\"1\"/>\n",
       "<defs>\n",
       "  <clipPath id=\"clip451\">\n",
       "    <rect x=\"480\" y=\"0\" width=\"1681\" height=\"1600\"/>\n",
       "  </clipPath>\n",
       "</defs>\n",
       "<path clip-path=\"url(#clip450)\" d=\"\n",
       "M110.881 1486.45 L2352.76 1486.45 L2352.76 47.2441 L110.881 47.2441  Z\n",
       "  \" fill=\"#ffffff\" fill-rule=\"evenodd\" fill-opacity=\"1\"/>\n",
       "<defs>\n",
       "  <clipPath id=\"clip452\">\n",
       "    <rect x=\"110\" y=\"47\" width=\"2243\" height=\"1440\"/>\n",
       "  </clipPath>\n",
       "</defs>\n",
       "<polyline clip-path=\"url(#clip452)\" style=\"stroke:#000000; stroke-linecap:round; stroke-linejoin:round; stroke-width:2; stroke-opacity:0.1; fill:none\" points=\"\n",
       "  130.268,1486.45 130.268,47.2441 \n",
       "  \"/>\n",
       "<polyline clip-path=\"url(#clip452)\" style=\"stroke:#000000; stroke-linecap:round; stroke-linejoin:round; stroke-width:2; stroke-opacity:0.1; fill:none\" points=\"\n",
       "  570.888,1486.45 570.888,47.2441 \n",
       "  \"/>\n",
       "<polyline clip-path=\"url(#clip452)\" style=\"stroke:#000000; stroke-linecap:round; stroke-linejoin:round; stroke-width:2; stroke-opacity:0.1; fill:none\" points=\"\n",
       "  1011.51,1486.45 1011.51,47.2441 \n",
       "  \"/>\n",
       "<polyline clip-path=\"url(#clip452)\" style=\"stroke:#000000; stroke-linecap:round; stroke-linejoin:round; stroke-width:2; stroke-opacity:0.1; fill:none\" points=\"\n",
       "  1452.13,1486.45 1452.13,47.2441 \n",
       "  \"/>\n",
       "<polyline clip-path=\"url(#clip452)\" style=\"stroke:#000000; stroke-linecap:round; stroke-linejoin:round; stroke-width:2; stroke-opacity:0.1; fill:none\" points=\"\n",
       "  1892.75,1486.45 1892.75,47.2441 \n",
       "  \"/>\n",
       "<polyline clip-path=\"url(#clip452)\" style=\"stroke:#000000; stroke-linecap:round; stroke-linejoin:round; stroke-width:2; stroke-opacity:0.1; fill:none\" points=\"\n",
       "  2333.37,1486.45 2333.37,47.2441 \n",
       "  \"/>\n",
       "<polyline clip-path=\"url(#clip450)\" style=\"stroke:#000000; stroke-linecap:round; stroke-linejoin:round; stroke-width:4; stroke-opacity:1; fill:none\" points=\"\n",
       "  110.881,1486.45 2352.76,1486.45 \n",
       "  \"/>\n",
       "<polyline clip-path=\"url(#clip450)\" style=\"stroke:#000000; stroke-linecap:round; stroke-linejoin:round; stroke-width:4; stroke-opacity:1; fill:none\" points=\"\n",
       "  130.268,1486.45 130.268,1467.55 \n",
       "  \"/>\n",
       "<polyline clip-path=\"url(#clip450)\" style=\"stroke:#000000; stroke-linecap:round; stroke-linejoin:round; stroke-width:4; stroke-opacity:1; fill:none\" points=\"\n",
       "  570.888,1486.45 570.888,1467.55 \n",
       "  \"/>\n",
       "<polyline clip-path=\"url(#clip450)\" style=\"stroke:#000000; stroke-linecap:round; stroke-linejoin:round; stroke-width:4; stroke-opacity:1; fill:none\" points=\"\n",
       "  1011.51,1486.45 1011.51,1467.55 \n",
       "  \"/>\n",
       "<polyline clip-path=\"url(#clip450)\" style=\"stroke:#000000; stroke-linecap:round; stroke-linejoin:round; stroke-width:4; stroke-opacity:1; fill:none\" points=\"\n",
       "  1452.13,1486.45 1452.13,1467.55 \n",
       "  \"/>\n",
       "<polyline clip-path=\"url(#clip450)\" style=\"stroke:#000000; stroke-linecap:round; stroke-linejoin:round; stroke-width:4; stroke-opacity:1; fill:none\" points=\"\n",
       "  1892.75,1486.45 1892.75,1467.55 \n",
       "  \"/>\n",
       "<polyline clip-path=\"url(#clip450)\" style=\"stroke:#000000; stroke-linecap:round; stroke-linejoin:round; stroke-width:4; stroke-opacity:1; fill:none\" points=\"\n",
       "  2333.37,1486.45 2333.37,1467.55 \n",
       "  \"/>\n",
       "<path clip-path=\"url(#clip450)\" d=\"M130.268 1517.37 Q126.657 1517.37 124.828 1520.93 Q123.023 1524.47 123.023 1531.6 Q123.023 1538.71 124.828 1542.27 Q126.657 1545.82 130.268 1545.82 Q133.902 1545.82 135.708 1542.27 Q137.537 1538.71 137.537 1531.6 Q137.537 1524.47 135.708 1520.93 Q133.902 1517.37 130.268 1517.37 M130.268 1513.66 Q136.078 1513.66 139.134 1518.27 Q142.213 1522.85 142.213 1531.6 Q142.213 1540.33 139.134 1544.94 Q136.078 1549.52 130.268 1549.52 Q124.458 1549.52 121.379 1544.94 Q118.324 1540.33 118.324 1531.6 Q118.324 1522.85 121.379 1518.27 Q124.458 1513.66 130.268 1513.66 Z\" fill=\"#000000\" fill-rule=\"evenodd\" fill-opacity=\"1\" /><path clip-path=\"url(#clip450)\" d=\"M545.576 1544.91 L553.215 1544.91 L553.215 1518.55 L544.905 1520.21 L544.905 1515.95 L553.168 1514.29 L557.844 1514.29 L557.844 1544.91 L565.483 1544.91 L565.483 1548.85 L545.576 1548.85 L545.576 1544.91 Z\" fill=\"#000000\" fill-rule=\"evenodd\" fill-opacity=\"1\" /><path clip-path=\"url(#clip450)\" d=\"M584.928 1517.37 Q581.316 1517.37 579.488 1520.93 Q577.682 1524.47 577.682 1531.6 Q577.682 1538.71 579.488 1542.27 Q581.316 1545.82 584.928 1545.82 Q588.562 1545.82 590.367 1542.27 Q592.196 1538.71 592.196 1531.6 Q592.196 1524.47 590.367 1520.93 Q588.562 1517.37 584.928 1517.37 M584.928 1513.66 Q590.738 1513.66 593.793 1518.27 Q596.872 1522.85 596.872 1531.6 Q596.872 1540.33 593.793 1544.94 Q590.738 1549.52 584.928 1549.52 Q579.117 1549.52 576.039 1544.94 Q572.983 1540.33 572.983 1531.6 Q572.983 1522.85 576.039 1518.27 Q579.117 1513.66 584.928 1513.66 Z\" fill=\"#000000\" fill-rule=\"evenodd\" fill-opacity=\"1\" /><path clip-path=\"url(#clip450)\" d=\"M990.282 1544.91 L1006.6 1544.91 L1006.6 1548.85 L984.657 1548.85 L984.657 1544.91 Q987.319 1542.16 991.902 1537.53 Q996.508 1532.88 997.689 1531.53 Q999.934 1529.01 1000.81 1527.27 Q1001.72 1525.51 1001.72 1523.82 Q1001.72 1521.07 999.772 1519.33 Q997.851 1517.6 994.749 1517.6 Q992.55 1517.6 990.096 1518.36 Q987.666 1519.13 984.888 1520.68 L984.888 1515.95 Q987.712 1514.82 990.166 1514.24 Q992.62 1513.66 994.657 1513.66 Q1000.03 1513.66 1003.22 1516.35 Q1006.42 1519.03 1006.42 1523.52 Q1006.42 1525.65 1005.61 1527.57 Q1004.82 1529.47 1002.71 1532.07 Q1002.13 1532.74 999.032 1535.95 Q995.93 1539.15 990.282 1544.91 Z\" fill=\"#000000\" fill-rule=\"evenodd\" fill-opacity=\"1\" /><path clip-path=\"url(#clip450)\" d=\"M1026.42 1517.37 Q1022.8 1517.37 1020.98 1520.93 Q1019.17 1524.47 1019.17 1531.6 Q1019.17 1538.71 1020.98 1542.27 Q1022.8 1545.82 1026.42 1545.82 Q1030.05 1545.82 1031.86 1542.27 Q1033.68 1538.71 1033.68 1531.6 Q1033.68 1524.47 1031.86 1520.93 Q1030.05 1517.37 1026.42 1517.37 M1026.42 1513.66 Q1032.23 1513.66 1035.28 1518.27 Q1038.36 1522.85 1038.36 1531.6 Q1038.36 1540.33 1035.28 1544.94 Q1032.23 1549.52 1026.42 1549.52 Q1020.61 1549.52 1017.53 1544.94 Q1014.47 1540.33 1014.47 1531.6 Q1014.47 1522.85 1017.53 1518.27 Q1020.61 1513.66 1026.42 1513.66 Z\" fill=\"#000000\" fill-rule=\"evenodd\" fill-opacity=\"1\" /><path clip-path=\"url(#clip450)\" d=\"M1440.97 1530.21 Q1444.33 1530.93 1446.2 1533.2 Q1448.1 1535.47 1448.1 1538.8 Q1448.1 1543.92 1444.58 1546.72 Q1441.06 1549.52 1434.58 1549.52 Q1432.41 1549.52 1430.09 1549.08 Q1427.8 1548.66 1425.35 1547.81 L1425.35 1543.29 Q1427.29 1544.43 1429.61 1545.01 Q1431.92 1545.58 1434.44 1545.58 Q1438.84 1545.58 1441.13 1543.85 Q1443.45 1542.11 1443.45 1538.8 Q1443.45 1535.75 1441.3 1534.03 Q1439.17 1532.3 1435.35 1532.3 L1431.32 1532.3 L1431.32 1528.45 L1435.53 1528.45 Q1438.98 1528.45 1440.81 1527.09 Q1442.64 1525.7 1442.64 1523.11 Q1442.64 1520.45 1440.74 1519.03 Q1438.86 1517.6 1435.35 1517.6 Q1433.42 1517.6 1431.23 1518.01 Q1429.03 1518.43 1426.39 1519.31 L1426.39 1515.14 Q1429.05 1514.4 1431.36 1514.03 Q1433.7 1513.66 1435.76 1513.66 Q1441.09 1513.66 1444.19 1516.09 Q1447.29 1518.5 1447.29 1522.62 Q1447.29 1525.49 1445.65 1527.48 Q1444 1529.45 1440.97 1530.21 Z\" fill=\"#000000\" fill-rule=\"evenodd\" fill-opacity=\"1\" /><path clip-path=\"url(#clip450)\" d=\"M1466.97 1517.37 Q1463.36 1517.37 1461.53 1520.93 Q1459.72 1524.47 1459.72 1531.6 Q1459.72 1538.71 1461.53 1542.27 Q1463.36 1545.82 1466.97 1545.82 Q1470.6 1545.82 1472.41 1542.27 Q1474.23 1538.71 1474.23 1531.6 Q1474.23 1524.47 1472.41 1520.93 Q1470.6 1517.37 1466.97 1517.37 M1466.97 1513.66 Q1472.78 1513.66 1475.83 1518.27 Q1478.91 1522.85 1478.91 1531.6 Q1478.91 1540.33 1475.83 1544.94 Q1472.78 1549.52 1466.97 1549.52 Q1461.16 1549.52 1458.08 1544.94 Q1455.02 1540.33 1455.02 1531.6 Q1455.02 1522.85 1458.08 1518.27 Q1461.16 1513.66 1466.97 1513.66 Z\" fill=\"#000000\" fill-rule=\"evenodd\" fill-opacity=\"1\" /><path clip-path=\"url(#clip450)\" d=\"M1880.92 1518.36 L1869.11 1536.81 L1880.92 1536.81 L1880.92 1518.36 M1879.69 1514.29 L1885.57 1514.29 L1885.57 1536.81 L1890.5 1536.81 L1890.5 1540.7 L1885.57 1540.7 L1885.57 1548.85 L1880.92 1548.85 L1880.92 1540.7 L1865.32 1540.7 L1865.32 1536.19 L1879.69 1514.29 Z\" fill=\"#000000\" fill-rule=\"evenodd\" fill-opacity=\"1\" /><path clip-path=\"url(#clip450)\" d=\"M1908.23 1517.37 Q1904.62 1517.37 1902.79 1520.93 Q1900.99 1524.47 1900.99 1531.6 Q1900.99 1538.71 1902.79 1542.27 Q1904.62 1545.82 1908.23 1545.82 Q1911.87 1545.82 1913.67 1542.27 Q1915.5 1538.71 1915.5 1531.6 Q1915.5 1524.47 1913.67 1520.93 Q1911.87 1517.37 1908.23 1517.37 M1908.23 1513.66 Q1914.04 1513.66 1917.1 1518.27 Q1920.18 1522.85 1920.18 1531.6 Q1920.18 1540.33 1917.1 1544.94 Q1914.04 1549.52 1908.23 1549.52 Q1902.42 1549.52 1899.35 1544.94 Q1896.29 1540.33 1896.29 1531.6 Q1896.29 1522.85 1899.35 1518.27 Q1902.42 1513.66 1908.23 1513.66 Z\" fill=\"#000000\" fill-rule=\"evenodd\" fill-opacity=\"1\" /><path clip-path=\"url(#clip450)\" d=\"M2308.07 1514.29 L2326.42 1514.29 L2326.42 1518.22 L2312.35 1518.22 L2312.35 1526.7 Q2313.37 1526.35 2314.39 1526.19 Q2315.41 1526 2316.42 1526 Q2322.21 1526 2325.59 1529.17 Q2328.97 1532.34 2328.97 1537.76 Q2328.97 1543.34 2325.5 1546.44 Q2322.03 1549.52 2315.71 1549.52 Q2313.53 1549.52 2311.26 1549.15 Q2309.02 1548.78 2306.61 1548.04 L2306.61 1543.34 Q2308.69 1544.47 2310.92 1545.03 Q2313.14 1545.58 2315.61 1545.58 Q2319.62 1545.58 2321.96 1543.48 Q2324.29 1541.37 2324.29 1537.76 Q2324.29 1534.15 2321.96 1532.04 Q2319.62 1529.94 2315.61 1529.94 Q2313.74 1529.94 2311.86 1530.35 Q2310.01 1530.77 2308.07 1531.65 L2308.07 1514.29 Z\" fill=\"#000000\" fill-rule=\"evenodd\" fill-opacity=\"1\" /><path clip-path=\"url(#clip450)\" d=\"M2348.18 1517.37 Q2344.57 1517.37 2342.74 1520.93 Q2340.94 1524.47 2340.94 1531.6 Q2340.94 1538.71 2342.74 1542.27 Q2344.57 1545.82 2348.18 1545.82 Q2351.82 1545.82 2353.62 1542.27 Q2355.45 1538.71 2355.45 1531.6 Q2355.45 1524.47 2353.62 1520.93 Q2351.82 1517.37 2348.18 1517.37 M2348.18 1513.66 Q2353.99 1513.66 2357.05 1518.27 Q2360.13 1522.85 2360.13 1531.6 Q2360.13 1540.33 2357.05 1544.94 Q2353.99 1549.52 2348.18 1549.52 Q2342.37 1549.52 2339.29 1544.94 Q2336.24 1540.33 2336.24 1531.6 Q2336.24 1522.85 2339.29 1518.27 Q2342.37 1513.66 2348.18 1513.66 Z\" fill=\"#000000\" fill-rule=\"evenodd\" fill-opacity=\"1\" /><polyline clip-path=\"url(#clip452)\" style=\"stroke:#000000; stroke-linecap:round; stroke-linejoin:round; stroke-width:2; stroke-opacity:0.1; fill:none\" points=\"\n",
       "  110.881,1445.72 2352.76,1445.72 \n",
       "  \"/>\n",
       "<polyline clip-path=\"url(#clip452)\" style=\"stroke:#000000; stroke-linecap:round; stroke-linejoin:round; stroke-width:2; stroke-opacity:0.1; fill:none\" points=\"\n",
       "  110.881,1012.64 2352.76,1012.64 \n",
       "  \"/>\n",
       "<polyline clip-path=\"url(#clip452)\" style=\"stroke:#000000; stroke-linecap:round; stroke-linejoin:round; stroke-width:2; stroke-opacity:0.1; fill:none\" points=\"\n",
       "  110.881,579.573 2352.76,579.573 \n",
       "  \"/>\n",
       "<polyline clip-path=\"url(#clip452)\" style=\"stroke:#000000; stroke-linecap:round; stroke-linejoin:round; stroke-width:2; stroke-opacity:0.1; fill:none\" points=\"\n",
       "  110.881,146.502 2352.76,146.502 \n",
       "  \"/>\n",
       "<polyline clip-path=\"url(#clip450)\" style=\"stroke:#000000; stroke-linecap:round; stroke-linejoin:round; stroke-width:4; stroke-opacity:1; fill:none\" points=\"\n",
       "  110.881,1486.45 110.881,47.2441 \n",
       "  \"/>\n",
       "<polyline clip-path=\"url(#clip450)\" style=\"stroke:#000000; stroke-linecap:round; stroke-linejoin:round; stroke-width:4; stroke-opacity:1; fill:none\" points=\"\n",
       "  110.881,1445.72 129.779,1445.72 \n",
       "  \"/>\n",
       "<polyline clip-path=\"url(#clip450)\" style=\"stroke:#000000; stroke-linecap:round; stroke-linejoin:round; stroke-width:4; stroke-opacity:1; fill:none\" points=\"\n",
       "  110.881,1012.64 129.779,1012.64 \n",
       "  \"/>\n",
       "<polyline clip-path=\"url(#clip450)\" style=\"stroke:#000000; stroke-linecap:round; stroke-linejoin:round; stroke-width:4; stroke-opacity:1; fill:none\" points=\"\n",
       "  110.881,579.573 129.779,579.573 \n",
       "  \"/>\n",
       "<polyline clip-path=\"url(#clip450)\" style=\"stroke:#000000; stroke-linecap:round; stroke-linejoin:round; stroke-width:4; stroke-opacity:1; fill:none\" points=\"\n",
       "  110.881,146.502 129.779,146.502 \n",
       "  \"/>\n",
       "<path clip-path=\"url(#clip450)\" d=\"M62.9365 1431.51 Q59.3254 1431.51 57.4967 1435.08 Q55.6912 1438.62 55.6912 1445.75 Q55.6912 1452.86 57.4967 1456.42 Q59.3254 1459.96 62.9365 1459.96 Q66.5707 1459.96 68.3763 1456.42 Q70.205 1452.86 70.205 1445.75 Q70.205 1438.62 68.3763 1435.08 Q66.5707 1431.51 62.9365 1431.51 M62.9365 1427.81 Q68.7467 1427.81 71.8022 1432.42 Q74.8809 1437 74.8809 1445.75 Q74.8809 1454.48 71.8022 1459.08 Q68.7467 1463.67 62.9365 1463.67 Q57.1264 1463.67 54.0477 1459.08 Q50.9921 1454.48 50.9921 1445.75 Q50.9921 1437 54.0477 1432.42 Q57.1264 1427.81 62.9365 1427.81 Z\" fill=\"#000000\" fill-rule=\"evenodd\" fill-opacity=\"1\" /><path clip-path=\"url(#clip450)\" d=\"M54.9736 1025.99 L62.6124 1025.99 L62.6124 999.624 L54.3023 1001.29 L54.3023 997.031 L62.5661 995.364 L67.242 995.364 L67.242 1025.99 L74.8809 1025.99 L74.8809 1029.92 L54.9736 1029.92 L54.9736 1025.99 Z\" fill=\"#000000\" fill-rule=\"evenodd\" fill-opacity=\"1\" /><path clip-path=\"url(#clip450)\" d=\"M58.5615 592.918 L74.8809 592.918 L74.8809 596.853 L52.9366 596.853 L52.9366 592.918 Q55.5986 590.163 60.1819 585.534 Q64.7883 580.881 65.9689 579.539 Q68.2143 577.015 69.0939 575.279 Q69.9967 573.52 69.9967 571.83 Q69.9967 569.076 68.0522 567.34 Q66.1309 565.603 63.0291 565.603 Q60.83 565.603 58.3763 566.367 Q55.9458 567.131 53.168 568.682 L53.168 563.96 Q55.9921 562.826 58.4458 562.247 Q60.8995 561.668 62.9365 561.668 Q68.3068 561.668 71.5013 564.353 Q74.6957 567.039 74.6957 571.529 Q74.6957 573.659 73.8855 575.58 Q73.0985 577.478 70.992 580.071 Q70.4133 580.742 67.3115 583.96 Q64.2096 587.154 58.5615 592.918 Z\" fill=\"#000000\" fill-rule=\"evenodd\" fill-opacity=\"1\" /><path clip-path=\"url(#clip450)\" d=\"M67.7513 145.148 Q71.1078 145.865 72.9827 148.134 Q74.8809 150.402 74.8809 153.736 Q74.8809 158.851 71.3624 161.652 Q67.8439 164.453 61.3624 164.453 Q59.1865 164.453 56.8717 164.013 Q54.5801 163.597 52.1264 162.74 L52.1264 158.226 Q54.0708 159.361 56.3856 159.939 Q58.7004 160.518 61.2236 160.518 Q65.6217 160.518 67.9133 158.782 Q70.2281 157.046 70.2281 153.736 Q70.2281 150.68 68.0754 148.967 Q65.9457 147.231 62.1263 147.231 L58.0986 147.231 L58.0986 143.389 L62.3115 143.389 Q65.7606 143.389 67.5893 142.023 Q69.418 140.634 69.418 138.041 Q69.418 135.379 67.5198 133.967 Q65.6448 132.532 62.1263 132.532 Q60.205 132.532 58.006 132.949 Q55.8069 133.366 53.168 134.245 L53.168 130.078 Q55.8301 129.338 58.1449 128.967 Q60.4828 128.597 62.543 128.597 Q67.867 128.597 70.9689 131.028 Q74.0707 133.435 74.0707 137.555 Q74.0707 140.426 72.4272 142.416 Q70.7837 144.384 67.7513 145.148 Z\" fill=\"#000000\" fill-rule=\"evenodd\" fill-opacity=\"1\" /><polyline clip-path=\"url(#clip452)\" style=\"stroke:#009af9; stroke-linecap:round; stroke-linejoin:round; stroke-width:4; stroke-opacity:1; fill:none\" points=\"\n",
       "  174.33,363.038 218.392,509.874 262.454,669.947 306.516,812.934 350.578,930.35 394.64,1016.04 438.702,1074.82 482.764,1113.74 526.826,1140.43 570.888,1160.8 \n",
       "  614.95,1178.96 659.012,1197.49 703.074,1217.92 747.136,1240.91 791.198,1265.74 835.26,1290.88 879.322,1315.4 923.384,1338.57 967.446,1359.8 1011.51,1378.65 \n",
       "  1055.57,1394.83 1099.63,1408.23 1143.69,1418.92 1187.76,1427.12 1231.82,1433.17 1275.88,1437.47 1319.94,1440.42 1364,1442.39 1408.07,1443.66 1452.13,1444.46 \n",
       "  1496.19,1444.97 1540.25,1445.27 1584.31,1445.46 1628.38,1445.57 1672.44,1445.63 1716.5,1445.67 1760.56,1445.69 1804.62,1445.7 1848.69,1445.71 1892.75,1445.71 \n",
       "  1936.81,1445.71 1980.87,1445.72 2024.93,1445.72 2069,1445.72 2113.06,1445.72 2157.12,1445.72 2201.18,1445.72 2245.24,1445.72 2289.31,1445.72 \n",
       "  \"/>\n",
       "<polyline clip-path=\"url(#clip452)\" style=\"stroke:#e26f46; stroke-linecap:round; stroke-linejoin:round; stroke-width:4; stroke-opacity:1; fill:none\" points=\"\n",
       "  174.33,1229.18 218.392,957.908 262.454,681.109 306.516,451.434 350.578,278.842 394.64,168.363 438.702,109.062 482.764,87.9763 526.826,92.8332 570.888,114.86 \n",
       "  614.95,148.902 659.012,192.816 703.074,246.726 747.136,311.568 791.198,386.193 835.26,467.214 879.322,552.807 923.384,641.184 967.446,730.659 1011.51,819.36 \n",
       "  1055.57,905.405 1099.63,986.929 1143.69,1062.28 1187.76,1130.14 1231.82,1189.7 1275.88,1240.69 1319.94,1283.36 1364,1318.35 1408.07,1346.59 1452.13,1369.07 \n",
       "  1496.19,1386.81 1540.25,1400.71 1584.31,1411.58 1628.38,1420.06 1672.44,1426.65 1716.5,1431.77 1760.56,1435.72 1804.62,1438.72 1848.69,1440.97 1892.75,1442.62 \n",
       "  1936.81,1443.79 1980.87,1444.58 2024.93,1445.09 2069,1445.39 2113.06,1445.56 2157.12,1445.64 2201.18,1445.67 2245.24,1445.69 2289.31,1445.7 \n",
       "  \"/>\n",
       "<path clip-path=\"url(#clip450)\" d=\"\n",
       "M1976.5 250.738 L2278.03 250.738 L2278.03 95.2176 L1976.5 95.2176  Z\n",
       "  \" fill=\"#ffffff\" fill-rule=\"evenodd\" fill-opacity=\"1\"/>\n",
       "<polyline clip-path=\"url(#clip450)\" style=\"stroke:#000000; stroke-linecap:round; stroke-linejoin:round; stroke-width:4; stroke-opacity:1; fill:none\" points=\"\n",
       "  1976.5,250.738 2278.03,250.738 2278.03,95.2176 1976.5,95.2176 1976.5,250.738 \n",
       "  \"/>\n",
       "<polyline clip-path=\"url(#clip450)\" style=\"stroke:#009af9; stroke-linecap:round; stroke-linejoin:round; stroke-width:4; stroke-opacity:1; fill:none\" points=\"\n",
       "  2001.41,147.058 2150.87,147.058 \n",
       "  \"/>\n",
       "<path clip-path=\"url(#clip450)\" d=\"M2189.62 166.745 Q2187.81 171.375 2186.1 172.787 Q2184.39 174.199 2181.52 174.199 L2178.11 174.199 L2178.11 170.634 L2180.61 170.634 Q2182.37 170.634 2183.35 169.8 Q2184.32 168.967 2185.5 165.865 L2186.26 163.921 L2175.78 138.412 L2180.29 138.412 L2188.39 158.689 L2196.49 138.412 L2201.01 138.412 L2189.62 166.745 Z\" fill=\"#000000\" fill-rule=\"evenodd\" fill-opacity=\"1\" /><path clip-path=\"url(#clip450)\" d=\"M2208.3 160.402 L2215.94 160.402 L2215.94 134.037 L2207.63 135.703 L2207.63 131.444 L2215.89 129.778 L2220.57 129.778 L2220.57 160.402 L2228.21 160.402 L2228.21 164.338 L2208.3 164.338 L2208.3 160.402 Z\" fill=\"#000000\" fill-rule=\"evenodd\" fill-opacity=\"1\" /><polyline clip-path=\"url(#clip450)\" style=\"stroke:#e26f46; stroke-linecap:round; stroke-linejoin:round; stroke-width:4; stroke-opacity:1; fill:none\" points=\"\n",
       "  2001.41,198.898 2150.87,198.898 \n",
       "  \"/>\n",
       "<path clip-path=\"url(#clip450)\" d=\"M2189.62 218.585 Q2187.81 223.215 2186.1 224.627 Q2184.39 226.039 2181.52 226.039 L2178.11 226.039 L2178.11 222.474 L2180.61 222.474 Q2182.37 222.474 2183.35 221.64 Q2184.32 220.807 2185.5 217.705 L2186.26 215.761 L2175.78 190.252 L2180.29 190.252 L2188.39 210.529 L2196.49 190.252 L2201.01 190.252 L2189.62 218.585 Z\" fill=\"#000000\" fill-rule=\"evenodd\" fill-opacity=\"1\" /><path clip-path=\"url(#clip450)\" d=\"M2211.52 212.242 L2227.84 212.242 L2227.84 216.178 L2205.89 216.178 L2205.89 212.242 Q2208.55 209.488 2213.14 204.858 Q2217.74 200.205 2218.92 198.863 Q2221.17 196.34 2222.05 194.604 Q2222.95 192.844 2222.95 191.155 Q2222.95 188.4 2221.01 186.664 Q2219.09 184.928 2215.99 184.928 Q2213.79 184.928 2211.33 185.692 Q2208.9 186.455 2206.12 188.006 L2206.12 183.284 Q2208.95 182.15 2211.4 181.571 Q2213.86 180.993 2215.89 180.993 Q2221.26 180.993 2224.46 183.678 Q2227.65 186.363 2227.65 190.854 Q2227.65 192.983 2226.84 194.905 Q2226.05 196.803 2223.95 199.395 Q2223.37 200.067 2220.27 203.284 Q2217.17 206.479 2211.52 212.242 Z\" fill=\"#000000\" fill-rule=\"evenodd\" fill-opacity=\"1\" /></svg>\n"
      ]
     },
     "metadata": {},
     "output_type": "display_data"
    }
   ],
   "source": [
    "plot(map(x->x[1],sol.u))\n",
    "plot!(map(x->x[2],sol.u))\n"
   ]
  },
  {
   "cell_type": "markdown",
   "metadata": {},
   "source": []
  },
  {
   "cell_type": "markdown",
   "metadata": {},
   "source": []
  }
 ],
 "metadata": {
  "kernelspec": {
   "display_name": "Julia 1.8.0",
   "language": "julia",
   "name": "julia-1.8"
  },
  "language_info": {
   "file_extension": ".jl",
   "mimetype": "application/julia",
   "name": "julia",
   "version": "1.8.0"
  },
  "orig_nbformat": 4
 },
 "nbformat": 4,
 "nbformat_minor": 2
}
